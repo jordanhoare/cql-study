{
 "cells": [
  {
   "cell_type": "code",
   "execution_count": 12,
   "id": "21623edc",
   "metadata": {},
   "outputs": [
    {
     "name": "stdout",
     "output_type": "stream",
     "text": [
      "3.25.0\n"
     ]
    }
   ],
   "source": [
    "import cassandra\n",
    "print(cassandra.__version__)"
   ]
  },
  {
   "cell_type": "code",
   "execution_count": 19,
   "id": "95da7039",
   "metadata": {},
   "outputs": [],
   "source": [
    "from cassandra.auth import PlainTextAuthProvider\n",
    "from cassandra.cluster import Cluster\n",
    "from cassandra.cqlengine import connection, management, query\n",
    "from cassandra.cqlengine.connection import log as cql_logger\n",
    "from config import get_settings\n",
    "\n",
    "settings = get_settings()\n",
    "auth = PlainTextAuthProvider(username=settings.CASSANDRA_USER, password=settings.CASSANDRA_PWD)\n",
    "cluster = Cluster(contact_points=[settings.CASSANDRA_HOST], port=settings.CASSANDRA_PORT, auth_provider=auth)\n",
    "session = cluster.connect()"
   ]
  },
  {
   "cell_type": "code",
   "execution_count": 20,
   "id": "e9f6aa4e",
   "metadata": {},
   "outputs": [],
   "source": [
    "from cassandra.cqlengine import models, columns\n",
    "\n",
    "class City(models.Model):\n",
    "    country = columns.Text(primary_key=True)\n",
    "    city = columns.Text(primary_key=True)\n",
    "    population = columns.Integer()\n",
    "    gdp = columns.Integer()"
   ]
  },
  {
   "cell_type": "code",
   "execution_count": 21,
   "id": "149c877e",
   "metadata": {},
   "outputs": [],
   "source": [
    "from cassandra.cqlengine import query"
   ]
  },
  {
   "cell_type": "code",
   "execution_count": null,
   "id": "6b3d7151",
   "metadata": {},
   "outputs": [],
   "source": []
  },
  {
   "cell_type": "code",
   "execution_count": null,
   "id": "6a04a9e8",
   "metadata": {},
   "outputs": [],
   "source": []
  }
 ],
 "metadata": {
  "kernelspec": {
   "display_name": "Python 3 (ipykernel)",
   "language": "python",
   "name": "python3"
  },
  "language_info": {
   "codemirror_mode": {
    "name": "ipython",
    "version": 3
   },
   "file_extension": ".py",
   "mimetype": "text/x-python",
   "name": "python",
   "nbconvert_exporter": "python",
   "pygments_lexer": "ipython3",
   "version": "3.9.9"
  }
 },
 "nbformat": 4,
 "nbformat_minor": 5
}
