{
 "cells": [
  {
   "cell_type": "markdown",
   "id": "96fc785b",
   "metadata": {
    "scrolled": true
   },
   "source": [
    "**Cqlengine.models.Model**\n",
    "\n",
    "Columns in your models map to columns in your CQL table. You define CQL columns by defining column attributes on your model classes. For a model to be valid it needs at least one primary key column and one non-primary key column. Just as in CQL, the order you define your columns in is important, and is the same order they are defined in on a model’s corresponding table.\n",
    "\n",
    "To sync the models to the database, you may do the following*:"
   ]
  },
  {
   "cell_type": "code",
   "execution_count": null,
   "id": "0d55eb00",
   "metadata": {},
   "outputs": [],
   "source": [
    "from cassandra.cqlengine import columns\n",
    "from cassandra.cqlengine.models import Model\n",
    "from cassandra.cqlengine.management import sync_table\n",
    "\n",
    "class Person(Model):\n",
    "    id = columns.UUID(primary_key=True)\n",
    "    first_name  = columns.Text()\n",
    "    last_name = columns.Text()\n",
    "    \n",
    "    \n",
    "class Comment(Model):\n",
    "    photo_id = columns.UUID(primary_key=True)\n",
    "    comment_id = columns.TimeUUID(primary_key=True, clustering_order=\"DESC\")\n",
    "    comment = columns.Text()\n",
    "    \n",
    "    \n",
    "sync_table(Person)\n",
    "sync_table(Comment)"
   ]
  },
  {
   "cell_type": "markdown",
   "id": "f46997d7",
   "metadata": {},
   "source": [
    "**Model validation**\n",
    "\n",
    "Similar to: https://sqlmodel.tiangolo.com/ - but without the ability to enforce data types outside of session event hooks\n",
    "\n",
    "Each time you save a model instance in cqlengine, the data in the model is validated against the schema you’ve defined for your model. Most of the validation is fairly straightforward, it basically checks that you’re not trying to do something like save text into an integer column, and it enforces the required flag set on column definitions. It also performs any transformations needed to save the data properly.\n",
    "\n",
    "However, there are often additional constraints or transformations you want to impose on your data, beyond simply making sure that Cassandra won’t complain when you try to insert it. To define additional validation on a model, extend the model’s validation method:"
   ]
  },
  {
   "cell_type": "code",
   "execution_count": null,
   "id": "0f3e4cc6",
   "metadata": {},
   "outputs": [],
   "source": [
    "class Member(Model):\n",
    "    person_id = UUID(primary_key=True)\n",
    "    name = Text(required=True)\n",
    "\n",
    "    def validate(self):\n",
    "        super(Member, self).validate()\n",
    "        if self.name == 'jon':\n",
    "            raise ValidationError('no jon\\'s allowed')"
   ]
  },
  {
   "cell_type": "code",
   "execution_count": null,
   "id": "6fcd7d7b",
   "metadata": {},
   "outputs": [],
   "source": []
  }
 ],
 "metadata": {
  "kernelspec": {
   "display_name": "Python 3 (ipykernel)",
   "language": "python",
   "name": "python3"
  },
  "language_info": {
   "codemirror_mode": {
    "name": "ipython",
    "version": 3
   },
   "file_extension": ".py",
   "mimetype": "text/x-python",
   "name": "python",
   "nbconvert_exporter": "python",
   "pygments_lexer": "ipython3",
   "version": "3.9.9"
  }
 },
 "nbformat": 4,
 "nbformat_minor": 5
}
