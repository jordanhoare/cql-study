{
 "cells": [
  {
   "cell_type": "code",
   "execution_count": null,
   "metadata": {},
   "outputs": [],
   "source": [
    "from faker import Faker\n",
    "from faker_vehicle import VehicleProvider\n",
    "\n",
    "fake = Faker()\n",
    "fake.add_provider(VehicleProvider)\n",
    "\n",
    "# Generate 10000 records of dummy data\n",
    "records = []\n",
    "for i in range(10000):\n",
    "    records.append(\n",
    "        (\n",
    "            i, \n",
    "            fake.vehicle_year(), \n",
    "            fake.vehicle_make()\n",
    "            fake.vehicle_model(),\n",
    "            fake.vehicle_category()\n",
    "        )\n",
    "    )\n",
    "\n",
    "# Insert the records into the cars_by_id table\n",
    "for record in records:\n",
    "    session.execute(\"INSERT INTO cars_by_id (id, year, make, model, category) VALUES ({0}, {1}, '{2}', '{3}', '{4}')\".format(*record))"
   ]
  }
 ],
 "metadata": {
  "kernelspec": {
   "display_name": "Python 3 (ipykernel)",
   "language": "python",
   "name": "python3"
  },
  "language_info": {
   "codemirror_mode": {
    "name": "ipython",
    "version": 3
   },
   "file_extension": ".py",
   "mimetype": "text/x-python",
   "name": "python",
   "nbconvert_exporter": "python",
   "pygments_lexer": "ipython3",
   "version": "3.9.9"
  }
 },
 "nbformat": 4,
 "nbformat_minor": 2
}
