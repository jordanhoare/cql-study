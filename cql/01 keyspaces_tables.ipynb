{
 "cells": [
  {
   "cell_type": "code",
   "execution_count": 1,
   "id": "95da7039",
   "metadata": {},
   "outputs": [],
   "source": [
    "# Jupyter relative import (else it interupts the module)\n",
    "import os, sys\n",
    "parent_dir = os.path.abspath('..')\n",
    "if parent_dir not in sys.path:\n",
    "    sys.path.append(parent_dir)\n",
    "    \n",
    "from cassandra.auth import PlainTextAuthProvider\n",
    "from cassandra.cluster import Cluster\n",
    "from cassandra.cqlengine import connection, management, query\n",
    "from cassandra.cqlengine.connection import log as cql_logger\n",
    "from config import get_settings\n",
    "from db import create_session\n",
    "import pandas as pd\n",
    "\n",
    "\n",
    "session = create_session()"
   ]
  },
  {
   "cell_type": "code",
   "execution_count": 2,
   "id": "9189cf3b",
   "metadata": {},
   "outputs": [
    {
     "name": "stdout",
     "output_type": "stream",
     "text": [
      "Keyspace: system\n",
      "Keyspace: system_auth\n",
      "Keyspace: system_distributed\n",
      "Keyspace: system_schema\n",
      "Keyspace: system_traces\n",
      "Keyspace: system_views\n",
      "Keyspace: system_virtual_schema\n",
      "Keyspace: test_keyspace\n"
     ]
    }
   ],
   "source": [
    "# Create test_keyspace\n",
    "session.execute(\"\"\"\n",
    "CREATE KEYSPACE IF NOT EXISTS test_keyspace\n",
    "WITH replication = { 'class': 'SimpleStrategy', 'replication_factor': 1 } \n",
    "AND durable_writes = 'true';\n",
    "\"\"\")\n",
    "\n",
    "for row in (session.execute(\"describe keyspaces;\")):\n",
    "    print(\"Keyspace: {}\".format(row[0]))"
   ]
  },
  {
   "cell_type": "code",
   "execution_count": 3,
   "id": "3c99e218",
   "metadata": {},
   "outputs": [
    {
     "name": "stdout",
     "output_type": "stream",
     "text": [
      "Keyspace: system\n",
      "Keyspace: system_auth\n",
      "Keyspace: system_distributed\n",
      "Keyspace: system_schema\n",
      "Keyspace: system_traces\n",
      "Keyspace: system_views\n",
      "Keyspace: system_virtual_schema\n"
     ]
    }
   ],
   "source": [
    "# Drop test_keyspace\n",
    "session.execute(\"\"\"DROP KEYSPACE IF EXISTS test_keyspace;\"\"\")\n",
    "\n",
    "for row in (session.execute(\"describe keyspaces;\")):\n",
    "    print(\"Keyspace: {}\".format(row[0]))"
   ]
  },
  {
   "cell_type": "code",
   "execution_count": 4,
   "id": "e9f6aa4e",
   "metadata": {},
   "outputs": [
    {
     "data": {
      "text/html": [
       "<div>\n",
       "<style scoped>\n",
       "    .dataframe tbody tr th:only-of-type {\n",
       "        vertical-align: middle;\n",
       "    }\n",
       "\n",
       "    .dataframe tbody tr th {\n",
       "        vertical-align: top;\n",
       "    }\n",
       "\n",
       "    .dataframe thead th {\n",
       "        text-align: right;\n",
       "    }\n",
       "</style>\n",
       "<table border=\"1\" class=\"dataframe\">\n",
       "  <thead>\n",
       "    <tr style=\"text-align: right;\">\n",
       "      <th></th>\n",
       "      <th>id</th>\n",
       "      <th>make</th>\n",
       "      <th>model</th>\n",
       "    </tr>\n",
       "  </thead>\n",
       "  <tbody>\n",
       "    <tr>\n",
       "      <th>0</th>\n",
       "      <td>1</td>\n",
       "      <td>Toyota</td>\n",
       "      <td>Camry</td>\n",
       "    </tr>\n",
       "  </tbody>\n",
       "</table>\n",
       "</div>"
      ],
      "text/plain": [
       "   id    make  model\n",
       "0   1  Toyota  Camry"
      ]
     },
     "execution_count": 4,
     "metadata": {},
     "output_type": "execute_result"
    }
   ],
   "source": [
    "# Create a keyspace\n",
    "session.execute(\"\"\"\n",
    "CREATE KEYSPACE IF NOT EXISTS cql_keyspace\n",
    "WITH replication = { 'class': 'SimpleStrategy', 'replication_factor': 1 } \n",
    "AND durable_writes = 'true';\n",
    "\"\"\")\n",
    "\n",
    "# Create tables in cql_keyspace for car makes\n",
    "session.execute(\"CREATE TABLE IF NOT EXISTS cql_keyspace.cars_by_id (id int PRIMARY KEY, make text, model text)\")\n",
    "\n",
    "# Insert a record into each keyspace table\n",
    "session.execute(\"INSERT INTO cql_keyspace.cars_by_id (id, make, model) VALUES (1, 'Toyota', 'Camry')\")\n",
    "\n",
    "# Execute a CQL query to retrieve the record from the cars_by_id table\n",
    "result = session.execute(\"SELECT * FROM cql_keyspace.cars_by_id WHERE id = 1\")\n",
    "\n",
    "# Convert the result to a Pandas DataFrame\n",
    "pd.DataFrame(list(result)).head()\n"
   ]
  },
  {
   "cell_type": "code",
   "execution_count": 5,
   "id": "58742c6e",
   "metadata": {},
   "outputs": [
    {
     "data": {
      "text/html": [
       "<div>\n",
       "<style scoped>\n",
       "    .dataframe tbody tr th:only-of-type {\n",
       "        vertical-align: middle;\n",
       "    }\n",
       "\n",
       "    .dataframe tbody tr th {\n",
       "        vertical-align: top;\n",
       "    }\n",
       "\n",
       "    .dataframe thead th {\n",
       "        text-align: right;\n",
       "    }\n",
       "</style>\n",
       "<table border=\"1\" class=\"dataframe\">\n",
       "  <thead>\n",
       "    <tr style=\"text-align: right;\">\n",
       "      <th></th>\n",
       "      <th>id</th>\n",
       "      <th>age</th>\n",
       "      <th>firstname</th>\n",
       "      <th>surname</th>\n",
       "    </tr>\n",
       "  </thead>\n",
       "  <tbody>\n",
       "    <tr>\n",
       "      <th>0</th>\n",
       "      <td>1</td>\n",
       "      <td>26</td>\n",
       "      <td>John</td>\n",
       "      <td>Doe</td>\n",
       "    </tr>\n",
       "  </tbody>\n",
       "</table>\n",
       "</div>"
      ],
      "text/plain": [
       "   id  age firstname surname\n",
       "0   1   26      John     Doe"
      ]
     },
     "execution_count": 5,
     "metadata": {},
     "output_type": "execute_result"
    }
   ],
   "source": [
    "# Create tables in cql_keyspace for employees\n",
    "session.execute(\"CREATE TABLE IF NOT EXISTS cql_keyspace.employees_by_id (id int PRIMARY KEY, firstname text, surname text, age int)\")\n",
    "\n",
    "# Insert a record into each keyspace table\n",
    "session.execute(\"INSERT INTO cql_keyspace.employees_by_id (id, firstname, surname, age) VALUES (1, 'John', 'Doe', 26)\")\n",
    "\n",
    "# Execute a CQL query to retrieve the record from the cars_by_id table\n",
    "result = session.execute(\"SELECT * FROM cql_keyspace.employees_by_id WHERE id = 1\")\n",
    "\n",
    "# Convert the result to a Pandas DataFrame\n",
    "pd.DataFrame(list(result)).head()"
   ]
  },
  {
   "cell_type": "code",
   "execution_count": null,
   "id": "8e43201e",
   "metadata": {},
   "outputs": [],
   "source": []
  }
 ],
 "metadata": {
  "kernelspec": {
   "display_name": "Python 3 (ipykernel)",
   "language": "python",
   "name": "python3"
  },
  "language_info": {
   "codemirror_mode": {
    "name": "ipython",
    "version": 3
   },
   "file_extension": ".py",
   "mimetype": "text/x-python",
   "name": "python",
   "nbconvert_exporter": "python",
   "pygments_lexer": "ipython3",
   "version": "3.9.9"
  }
 },
 "nbformat": 4,
 "nbformat_minor": 5
}
