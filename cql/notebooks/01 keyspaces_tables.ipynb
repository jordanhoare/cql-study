{
 "cells": [
  {
   "cell_type": "code",
   "execution_count": 84,
   "id": "95da7039",
   "metadata": {},
   "outputs": [],
   "source": [
    "from cassandra.auth import PlainTextAuthProvider\n",
    "from cassandra.cluster import Cluster\n",
    "from cassandra.cqlengine import connection, management, query\n",
    "from cassandra.cqlengine.connection import log as cql_logger\n",
    "from config import get_settings\n",
    "from db import create_session\n",
    "import pandas as pd\n",
    "\n",
    "session = create_session()"
   ]
  },
  {
   "cell_type": "code",
   "execution_count": 85,
   "id": "9189cf3b",
   "metadata": {},
   "outputs": [
    {
     "name": "stdout",
     "output_type": "stream",
     "text": [
      "Keyspace: cql_keyspace\n",
      "Keyspace: system\n",
      "Keyspace: system_auth\n",
      "Keyspace: system_distributed\n",
      "Keyspace: system_schema\n",
      "Keyspace: system_traces\n",
      "Keyspace: system_views\n",
      "Keyspace: system_virtual_schema\n",
      "Keyspace: test_keyspace\n"
     ]
    }
   ],
   "source": [
    "# Create test_keyspace\n",
    "session.execute(\"\"\"\n",
    "CREATE KEYSPACE IF NOT EXISTS test_keyspace\n",
    "WITH replication = { 'class': 'SimpleStrategy', 'replication_factor': 1 } \n",
    "AND durable_writes = 'true';\n",
    "\"\"\")\n",
    "\n",
    "for row in (session.execute(\"describe keyspaces;\")):\n",
    "    print(\"Keyspace: {}\".format(row[0]))"
   ]
  },
  {
   "cell_type": "code",
   "execution_count": 86,
   "id": "3c99e218",
   "metadata": {},
   "outputs": [
    {
     "name": "stdout",
     "output_type": "stream",
     "text": [
      "Keyspace: cql_keyspace\n",
      "Keyspace: system\n",
      "Keyspace: system_auth\n",
      "Keyspace: system_distributed\n",
      "Keyspace: system_schema\n",
      "Keyspace: system_traces\n",
      "Keyspace: system_views\n",
      "Keyspace: system_virtual_schema\n"
     ]
    }
   ],
   "source": [
    "# Drop test_keyspace\n",
    "session.execute(\"\"\"DROP KEYSPACE IF EXISTS test_keyspace;\"\"\")\n",
    "\n",
    "for row in (session.execute(\"describe keyspaces;\")):\n",
    "    print(\"Keyspace: {}\".format(row[0]))"
   ]
  },
  {
   "cell_type": "code",
   "execution_count": 94,
   "id": "e9f6aa4e",
   "metadata": {},
   "outputs": [
    {
     "data": {
      "text/html": [
       "<div>\n",
       "<style scoped>\n",
       "    .dataframe tbody tr th:only-of-type {\n",
       "        vertical-align: middle;\n",
       "    }\n",
       "\n",
       "    .dataframe tbody tr th {\n",
       "        vertical-align: top;\n",
       "    }\n",
       "\n",
       "    .dataframe thead th {\n",
       "        text-align: right;\n",
       "    }\n",
       "</style>\n",
       "<table border=\"1\" class=\"dataframe\">\n",
       "  <thead>\n",
       "    <tr style=\"text-align: right;\">\n",
       "      <th></th>\n",
       "      <th>id</th>\n",
       "      <th>firstname</th>\n",
       "      <th>surname</th>\n",
       "    </tr>\n",
       "  </thead>\n",
       "  <tbody>\n",
       "    <tr>\n",
       "      <th>0</th>\n",
       "      <td>1</td>\n",
       "      <td>John</td>\n",
       "      <td>Doe</td>\n",
       "    </tr>\n",
       "  </tbody>\n",
       "</table>\n",
       "</div>"
      ],
      "text/plain": [
       "   id firstname surname\n",
       "0   1      John     Doe"
      ]
     },
     "execution_count": 94,
     "metadata": {},
     "output_type": "execute_result"
    }
   ],
   "source": [
    "# Create a keyspace\n",
    "session.execute(\"\"\"\n",
    "CREATE KEYSPACE IF NOT EXISTS cql_keyspace\n",
    "WITH replication = { 'class': 'SimpleStrategy', 'replication_factor': 1 } \n",
    "AND durable_writes = 'true';\n",
    "\"\"\")\n",
    "\n",
    "# Create tables in cql_keyspace for employees and car makes\n",
    "session.execute(\"CREATE TABLE IF NOT EXISTS cql_keyspace.cars_by_id (id int PRIMARY KEY, make text, model text)\")\n",
    "\n",
    "# Insert a record into each keyspace table\n",
    "session.execute(\"INSERT INTO cql_keyspace.cars_by_id (id, make, model) VALUES (1, 'Toyota', 'Camry')\")\n",
    "\n",
    "# Execute a CQL query to retrieve the record from the cars_by_id table\n",
    "result = session.execute(\"SELECT * FROM cql_keyspace.employee_by_id WHERE id = 1\")\n",
    "\n",
    "# Convert the result to a Pandas DataFrame\n",
    "pd.DataFrame(list(result)).head()\n"
   ]
  }
 ],
 "metadata": {
  "kernelspec": {
   "display_name": "Python 3 (ipykernel)",
   "language": "python",
   "name": "python3"
  },
  "language_info": {
   "codemirror_mode": {
    "name": "ipython",
    "version": 3
   },
   "file_extension": ".py",
   "mimetype": "text/x-python",
   "name": "python",
   "nbconvert_exporter": "python",
   "pygments_lexer": "ipython3",
   "version": "3.9.9"
  }
 },
 "nbformat": 4,
 "nbformat_minor": 5
}
