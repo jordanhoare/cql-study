{
 "cells": [
  {
   "cell_type": "code",
   "execution_count": 1,
   "id": "0c6cedd4",
   "metadata": {},
   "outputs": [],
   "source": [
    "# Jupyter relative import (else it interupts the module)\n",
    "import os, sys\n",
    "parent_dir = os.path.abspath('..')\n",
    "if parent_dir not in sys.path:\n",
    "    sys.path.append(parent_dir)\n",
    "    \n",
    "from cassandra.auth import PlainTextAuthProvider\n",
    "from cassandra.cluster import Cluster\n",
    "from cassandra.cqlengine import connection, management, query\n",
    "from cassandra.cqlengine.connection import log as cql_logger\n",
    "from config import get_settings\n",
    "from db import create_session\n",
    "import pandas as pd"
   ]
  },
  {
   "cell_type": "markdown",
   "id": "6f7abf34",
   "metadata": {},
   "source": [
    "**NoSQL Databases**\n",
    "- Impossible to perform joins\n",
    "- Cannot simply 'filter' tables - instead the column needs to be extracts to a key and wildcarded\n",
    "- Denormalized so you only have to query one table for the data (even if its duplicated)\n",
    "- Design the tables base on the query results you expect (happens in SQL as they become less performant)\n",
    "- If a table isn’t designed for a query:\n",
    "    - Not possible to run the query\n",
    "    - Extremely slow/unperformant (down regulate availability)\n",
    "\n",
    "Even if we create a foreign key on the Employee table for a car_make id, the car make isn't unique per employee, so we lose the ability to query the 01 notebook tables for an employees car make.  Instead we need to extend the data model to allow us to query an employees car make from one table."
   ]
  },
  {
   "cell_type": "markdown",
   "id": "d91a897d",
   "metadata": {},
   "source": [
    "\n",
    "```By using a composite key, we can partition all the car makes in a new table, then include a clustering column to remove the need for a join (now we use a WHERE) that will return the car make for an employee_id```\n",
    "\n",
    "<br>\n",
    "\n",
    "**Table**\n",
    "employee_by_car_make\n",
    "\n",
    "**Columns**\n",
    "car_make, employee_id, firstname, surname, age\n",
    "\n",
    "**Composite key of (car_make, employee_id)** where:\n",
    "\n",
    "    car_make = partition key (tells us which node)\n",
    "    id = clustering column (defines the order of the data)"
   ]
  },
  {
   "cell_type": "code",
   "execution_count": 2,
   "id": "f0e20fe2",
   "metadata": {},
   "outputs": [
    {
     "data": {
      "text/plain": [
       "<cassandra.cluster.ResultSet at 0x2c0fa98f6a0>"
      ]
     },
     "execution_count": 2,
     "metadata": {},
     "output_type": "execute_result"
    }
   ],
   "source": [
    "session = create_session()\n",
    "\n",
    "# Create a keyspace\n",
    "session.execute(\"\"\"\n",
    "CREATE KEYSPACE IF NOT EXISTS cql_keyspace\n",
    "WITH replication = { 'class': 'SimpleStrategy', 'replication_factor': 1 } \n",
    "AND durable_writes = 'true';\n",
    "\"\"\")\n",
    "\n",
    "# Create tables in cql_keyspace for employee_by_car_make\n",
    "session.execute(\"CREATE TABLE IF NOT EXISTS cql_keyspace.employee_by_car_make (car_make text, employee_id int, firstname text, surname text, age int, PRIMARY KEY(car_make, employee_id))\")\n",
    "\n",
    "# Insert a record into each keyspace table\n",
    "session.execute(\"INSERT INTO cql_keyspace.employee_by_car_make (car_make, employee_id, firstname, surname, age) VALUES ('Toyota', 1, 'John', 'Doe', 26)\")\n",
    "session.execute(\"INSERT INTO cql_keyspace.employee_by_car_make (car_make, employee_id, firstname, surname, age) VALUES ('Mazda', 2, 'Jane', 'Doe', 26)\")\n",
    "session.execute(\"INSERT INTO cql_keyspace.employee_by_car_make (car_make, employee_id, firstname, surname, age) VALUES ('Toyota', 3, 'Emily', 'Smith', 26)\")\n",
    "session.execute(\"INSERT INTO cql_keyspace.employee_by_car_make (car_make, employee_id, firstname, surname, age) VALUES ('Mazda', 4, 'Matthew', 'Brown', 26)\")"
   ]
  },
  {
   "cell_type": "markdown",
   "id": "19c5923f",
   "metadata": {},
   "source": [
    "Since the partition key is `car_make`, they will be grouped/ordered on this column first, then clustered by the `employee_id` afterward.\n",
    "\n",
    "This example could theoretically scale to `2 nodes`, where our hex function divides each of the two car_make across seperate nodes."
   ]
  },
  {
   "cell_type": "code",
   "execution_count": 3,
   "id": "05169e69",
   "metadata": {},
   "outputs": [
    {
     "data": {
      "text/html": [
       "<div>\n",
       "<style scoped>\n",
       "    .dataframe tbody tr th:only-of-type {\n",
       "        vertical-align: middle;\n",
       "    }\n",
       "\n",
       "    .dataframe tbody tr th {\n",
       "        vertical-align: top;\n",
       "    }\n",
       "\n",
       "    .dataframe thead th {\n",
       "        text-align: right;\n",
       "    }\n",
       "</style>\n",
       "<table border=\"1\" class=\"dataframe\">\n",
       "  <thead>\n",
       "    <tr style=\"text-align: right;\">\n",
       "      <th></th>\n",
       "      <th>car_make</th>\n",
       "      <th>employee_id</th>\n",
       "      <th>age</th>\n",
       "      <th>firstname</th>\n",
       "      <th>surname</th>\n",
       "    </tr>\n",
       "  </thead>\n",
       "  <tbody>\n",
       "    <tr>\n",
       "      <th>0</th>\n",
       "      <td>Toyota</td>\n",
       "      <td>1</td>\n",
       "      <td>26</td>\n",
       "      <td>John</td>\n",
       "      <td>Doe</td>\n",
       "    </tr>\n",
       "    <tr>\n",
       "      <th>1</th>\n",
       "      <td>Toyota</td>\n",
       "      <td>3</td>\n",
       "      <td>26</td>\n",
       "      <td>Emily</td>\n",
       "      <td>Smith</td>\n",
       "    </tr>\n",
       "    <tr>\n",
       "      <th>2</th>\n",
       "      <td>Mazda</td>\n",
       "      <td>2</td>\n",
       "      <td>26</td>\n",
       "      <td>Jane</td>\n",
       "      <td>Doe</td>\n",
       "    </tr>\n",
       "    <tr>\n",
       "      <th>3</th>\n",
       "      <td>Mazda</td>\n",
       "      <td>4</td>\n",
       "      <td>26</td>\n",
       "      <td>Matthew</td>\n",
       "      <td>Brown</td>\n",
       "    </tr>\n",
       "  </tbody>\n",
       "</table>\n",
       "</div>"
      ],
      "text/plain": [
       "  car_make  employee_id  age firstname surname\n",
       "0   Toyota            1   26      John     Doe\n",
       "1   Toyota            3   26     Emily   Smith\n",
       "2    Mazda            2   26      Jane     Doe\n",
       "3    Mazda            4   26   Matthew   Brown"
      ]
     },
     "execution_count": 3,
     "metadata": {},
     "output_type": "execute_result"
    }
   ],
   "source": [
    "# Execute a CQL query to retrieve the record from the employee_by_car_make table\n",
    "result = session.execute(\"SELECT * FROM cql_keyspace.employee_by_car_make\")\n",
    "\n",
    "# Convert the result to a Pandas DataFrame\n",
    "pd.DataFrame(list(result)).head()"
   ]
  },
  {
   "cell_type": "markdown",
   "id": "2831b787",
   "metadata": {},
   "source": [
    "To query which employee drives a Toyota, I can now directly query this table with a WHERE clause of Toyota. Alternatively, if I want to find what car John drives, I'll need to have his employee_id available."
   ]
  },
  {
   "cell_type": "code",
   "execution_count": 4,
   "id": "3fabd719",
   "metadata": {},
   "outputs": [
    {
     "data": {
      "text/html": [
       "<div>\n",
       "<style scoped>\n",
       "    .dataframe tbody tr th:only-of-type {\n",
       "        vertical-align: middle;\n",
       "    }\n",
       "\n",
       "    .dataframe tbody tr th {\n",
       "        vertical-align: top;\n",
       "    }\n",
       "\n",
       "    .dataframe thead th {\n",
       "        text-align: right;\n",
       "    }\n",
       "</style>\n",
       "<table border=\"1\" class=\"dataframe\">\n",
       "  <thead>\n",
       "    <tr style=\"text-align: right;\">\n",
       "      <th></th>\n",
       "      <th>car_make</th>\n",
       "      <th>employee_id</th>\n",
       "      <th>age</th>\n",
       "      <th>firstname</th>\n",
       "      <th>surname</th>\n",
       "    </tr>\n",
       "  </thead>\n",
       "  <tbody>\n",
       "    <tr>\n",
       "      <th>0</th>\n",
       "      <td>Toyota</td>\n",
       "      <td>1</td>\n",
       "      <td>26</td>\n",
       "      <td>John</td>\n",
       "      <td>Doe</td>\n",
       "    </tr>\n",
       "    <tr>\n",
       "      <th>1</th>\n",
       "      <td>Toyota</td>\n",
       "      <td>3</td>\n",
       "      <td>26</td>\n",
       "      <td>Emily</td>\n",
       "      <td>Smith</td>\n",
       "    </tr>\n",
       "  </tbody>\n",
       "</table>\n",
       "</div>"
      ],
      "text/plain": [
       "  car_make  employee_id  age firstname surname\n",
       "0   Toyota            1   26      John     Doe\n",
       "1   Toyota            3   26     Emily   Smith"
      ]
     },
     "execution_count": 4,
     "metadata": {},
     "output_type": "execute_result"
    }
   ],
   "source": [
    "result = session.execute(\"SELECT * FROM cql_keyspace.employee_by_car_make WHERE car_make = 'Toyota'\")\n",
    "pd.DataFrame(list(result)).head()"
   ]
  },
  {
   "cell_type": "markdown",
   "id": "76486682",
   "metadata": {},
   "source": [
    "**Scenario:**\n",
    "\n",
    "Since Toyota is such a common brand of car, and we originally dedicated our partioning key on `car_make`, we may find that the node which contains the Toyota `partition starts running very hot`.\n",
    "\n",
    "To solve this we can use multiple columns to make up our `partition key` and one `clustering key`."
   ]
  },
  {
   "cell_type": "code",
   "execution_count": 5,
   "id": "c31f75ea",
   "metadata": {},
   "outputs": [
    {
     "data": {
      "text/plain": [
       "<cassandra.cluster.ResultSet at 0x2c0faaa14f0>"
      ]
     },
     "execution_count": 5,
     "metadata": {},
     "output_type": "execute_result"
    }
   ],
   "source": [
    "session = create_session()\n",
    "\n",
    "session.execute(\"CREATE TABLE IF NOT EXISTS cql_keyspace.employee_by_car_make_and_model (car_make text, car_model text, employee_id int, firstname text, surname text, age int, PRIMARY KEY((car_make, car_model), employee_id))\")\n",
    "session.execute(\"INSERT INTO cql_keyspace.employee_by_car_make_and_model (car_make, car_model, employee_id, firstname, surname, age) VALUES ('Toyota', 'Hilux', 1, 'John', 'Doe', 26)\")\n",
    "session.execute(\"INSERT INTO cql_keyspace.employee_by_car_make_and_model (car_make, car_model, employee_id, firstname, surname, age) VALUES ('Mazda', 'CX5', 2, 'Jane', 'Doe', 26)\")\n",
    "session.execute(\"INSERT INTO cql_keyspace.employee_by_car_make_and_model (car_make, car_model, employee_id, firstname, surname, age) VALUES ('Toyota', 'Corolla', 3, 'Emily', 'Smith', 26)\")\n",
    "session.execute(\"INSERT INTO cql_keyspace.employee_by_car_make_and_model (car_make, car_model, employee_id, firstname, surname, age) VALUES ('Mazda', 'CX7', 4, 'Matthew', 'Brown', 26)\")\n"
   ]
  },
  {
   "cell_type": "code",
   "execution_count": 6,
   "id": "0504db4a",
   "metadata": {},
   "outputs": [
    {
     "data": {
      "text/html": [
       "<div>\n",
       "<style scoped>\n",
       "    .dataframe tbody tr th:only-of-type {\n",
       "        vertical-align: middle;\n",
       "    }\n",
       "\n",
       "    .dataframe tbody tr th {\n",
       "        vertical-align: top;\n",
       "    }\n",
       "\n",
       "    .dataframe thead th {\n",
       "        text-align: right;\n",
       "    }\n",
       "</style>\n",
       "<table border=\"1\" class=\"dataframe\">\n",
       "  <thead>\n",
       "    <tr style=\"text-align: right;\">\n",
       "      <th></th>\n",
       "      <th>car_make</th>\n",
       "      <th>car_model</th>\n",
       "      <th>employee_id</th>\n",
       "      <th>age</th>\n",
       "      <th>firstname</th>\n",
       "      <th>surname</th>\n",
       "    </tr>\n",
       "  </thead>\n",
       "  <tbody>\n",
       "    <tr>\n",
       "      <th>0</th>\n",
       "      <td>Mazda</td>\n",
       "      <td>CX7</td>\n",
       "      <td>4</td>\n",
       "      <td>26</td>\n",
       "      <td>Matthew</td>\n",
       "      <td>Brown</td>\n",
       "    </tr>\n",
       "    <tr>\n",
       "      <th>1</th>\n",
       "      <td>Toyota</td>\n",
       "      <td>Corolla</td>\n",
       "      <td>3</td>\n",
       "      <td>26</td>\n",
       "      <td>Emily</td>\n",
       "      <td>Smith</td>\n",
       "    </tr>\n",
       "    <tr>\n",
       "      <th>2</th>\n",
       "      <td>Mazda</td>\n",
       "      <td>CX5</td>\n",
       "      <td>2</td>\n",
       "      <td>26</td>\n",
       "      <td>Jane</td>\n",
       "      <td>Doe</td>\n",
       "    </tr>\n",
       "    <tr>\n",
       "      <th>3</th>\n",
       "      <td>Toyota</td>\n",
       "      <td>Hilux</td>\n",
       "      <td>1</td>\n",
       "      <td>26</td>\n",
       "      <td>John</td>\n",
       "      <td>Doe</td>\n",
       "    </tr>\n",
       "  </tbody>\n",
       "</table>\n",
       "</div>"
      ],
      "text/plain": [
       "  car_make car_model  employee_id  age firstname surname\n",
       "0    Mazda       CX7            4   26   Matthew   Brown\n",
       "1   Toyota   Corolla            3   26     Emily   Smith\n",
       "2    Mazda       CX5            2   26      Jane     Doe\n",
       "3   Toyota     Hilux            1   26      John     Doe"
      ]
     },
     "execution_count": 6,
     "metadata": {},
     "output_type": "execute_result"
    }
   ],
   "source": [
    "result = session.execute(\"SELECT * FROM cql_keyspace.employee_by_car_make_and_model\")\n",
    "pd.DataFrame(list(result)).head()"
   ]
  },
  {
   "cell_type": "code",
   "execution_count": 7,
   "id": "bf93df87",
   "metadata": {},
   "outputs": [
    {
     "data": {
      "text/html": [
       "<div>\n",
       "<style scoped>\n",
       "    .dataframe tbody tr th:only-of-type {\n",
       "        vertical-align: middle;\n",
       "    }\n",
       "\n",
       "    .dataframe tbody tr th {\n",
       "        vertical-align: top;\n",
       "    }\n",
       "\n",
       "    .dataframe thead th {\n",
       "        text-align: right;\n",
       "    }\n",
       "</style>\n",
       "<table border=\"1\" class=\"dataframe\">\n",
       "  <thead>\n",
       "    <tr style=\"text-align: right;\">\n",
       "      <th></th>\n",
       "      <th>car_make</th>\n",
       "      <th>car_model</th>\n",
       "      <th>employee_id</th>\n",
       "      <th>age</th>\n",
       "      <th>firstname</th>\n",
       "      <th>surname</th>\n",
       "    </tr>\n",
       "  </thead>\n",
       "  <tbody>\n",
       "    <tr>\n",
       "      <th>0</th>\n",
       "      <td>Toyota</td>\n",
       "      <td>Hilux</td>\n",
       "      <td>1</td>\n",
       "      <td>26</td>\n",
       "      <td>John</td>\n",
       "      <td>Doe</td>\n",
       "    </tr>\n",
       "  </tbody>\n",
       "</table>\n",
       "</div>"
      ],
      "text/plain": [
       "  car_make car_model  employee_id  age firstname surname\n",
       "0   Toyota     Hilux            1   26      John     Doe"
      ]
     },
     "execution_count": 7,
     "metadata": {},
     "output_type": "execute_result"
    }
   ],
   "source": [
    "result = session.execute(\"SELECT * FROM cql_keyspace.employee_by_car_make_and_model WHERE car_make = 'Toyota' AND car_model = 'Hilux'\")\n",
    "pd.DataFrame(list(result)).head()"
   ]
  }
 ],
 "metadata": {
  "kernelspec": {
   "display_name": "Python 3 (ipykernel)",
   "language": "python",
   "name": "python3"
  },
  "language_info": {
   "codemirror_mode": {
    "name": "ipython",
    "version": 3
   },
   "file_extension": ".py",
   "mimetype": "text/x-python",
   "name": "python",
   "nbconvert_exporter": "python",
   "pygments_lexer": "ipython3",
   "version": "3.9.9"
  }
 },
 "nbformat": 4,
 "nbformat_minor": 5
}
