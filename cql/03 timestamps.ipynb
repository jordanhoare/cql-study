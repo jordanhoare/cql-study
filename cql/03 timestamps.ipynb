{
 "cells": [
  {
   "cell_type": "code",
   "execution_count": 2,
   "id": "5cd8bc0f",
   "metadata": {},
   "outputs": [],
   "source": [
    "# Jupyter relative import (else it interupts the module)\n",
    "import os, sys\n",
    "parent_dir = os.path.abspath('..')\n",
    "if parent_dir not in sys.path:\n",
    "    sys.path.append(parent_dir)\n",
    "    \n",
    "from cassandra.auth import PlainTextAuthProvider\n",
    "from cassandra.cluster import Cluster\n",
    "from cassandra.cqlengine import connection, management, query\n",
    "from cassandra.cqlengine.connection import log as cql_logger\n",
    "from config import get_settings\n",
    "from db import create_session\n",
    "import pandas as pd"
   ]
  },
  {
   "cell_type": "markdown",
   "id": "71956156",
   "metadata": {},
   "source": [
    "```QUERY: Find the car ```\n",
    "\n",
    "<br>\n",
    "\n",
    "**Table**\n",
    "employee_by_car_make\n",
    "\n",
    "**Columns**\n",
    "car_make, employee_id, firstname, surname, age\n",
    "\n",
    "**Composite key of (car_make, employee_id)** where:\n",
    "\n",
    "    car_make = partition key (tells us which node)\n",
    "    id = clustering column (defines the order of the data)"
   ]
  },
  {
   "cell_type": "code",
   "execution_count": null,
   "id": "097c4aaf",
   "metadata": {},
   "outputs": [],
   "source": [
    "session = create_session()"
   ]
  }
 ],
 "metadata": {
  "kernelspec": {
   "display_name": "Python 3 (ipykernel)",
   "language": "python",
   "name": "python3"
  },
  "language_info": {
   "codemirror_mode": {
    "name": "ipython",
    "version": 3
   },
   "file_extension": ".py",
   "mimetype": "text/x-python",
   "name": "python",
   "nbconvert_exporter": "python",
   "pygments_lexer": "ipython3",
   "version": "3.9.9"
  }
 },
 "nbformat": 4,
 "nbformat_minor": 5
}
