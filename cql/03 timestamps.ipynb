{
 "cells": [
  {
   "cell_type": "code",
   "execution_count": 1,
   "id": "4e836ad4",
   "metadata": {},
   "outputs": [],
   "source": [
    "# Jupyter relative import (else it interupts the module)\n",
    "import os, sys\n",
    "parent_dir = os.path.abspath('..')\n",
    "if parent_dir not in sys.path:\n",
    "    sys.path.append(parent_dir)\n",
    "    \n",
    "from cassandra.auth import PlainTextAuthProvider\n",
    "from cassandra.cluster import Cluster\n",
    "from cassandra.cqlengine import connection, management, query\n",
    "from cassandra.cqlengine.connection import log as cql_logger\n",
    "from cassandra.concurrent import execute_concurrent_with_args\n",
    "from config import get_settings\n",
    "from db import create_session\n",
    "import pandas as pd"
   ]
  },
  {
   "cell_type": "markdown",
   "id": "b8245fa6",
   "metadata": {},
   "source": [
    "**Scenario**: \n",
    "\n",
    "Image a car rental company that operates nationwide and needs to store information about each car in the fleet, including the make, model, registration number, and the time that each car is rented out.  The data is required to be held for `30 days`.  \n",
    "\n",
    "- All over the customers that rented a Toyota Camry off the lot yesterday were over charged, so you would like to contact them. to inform them of the overcharge. \n",
    "\n",
    "<br>\n",
    "\n",
    "```QUERY: Find the contact numbers of all the Toyota Camry rentals that left the lot yesterday after 8:00am```\n",
    "\n",
    "We can construct a table to model this scenario using:\n",
    "\n",
    "**Table**\n",
    "rentals\n",
    "\n",
    "**Columns**\n",
    "car_make, car_model, rental_start_time, rental_end_time, registration, car_category, car_year, driver_license, first_name, last_name, contact_number\n",
    "\n",
    "**Composite key of (car_make, employee_id)** where:\n",
    "\n",
    "    car_make, car_model = partition key (tells us which node)\n",
    "    rental_start_time, rental_end_time = clustering column (defines the order of the data)"
   ]
  },
  {
   "cell_type": "code",
   "execution_count": 2,
   "id": "4d1a0fad",
   "metadata": {},
   "outputs": [],
   "source": [
    "session = create_session()"
   ]
  },
  {
   "cell_type": "code",
   "execution_count": 3,
   "id": "990b82dd",
   "metadata": {},
   "outputs": [
    {
     "data": {
      "text/plain": [
       "<cassandra.cluster.ResultSet at 0x2171dba6640>"
      ]
     },
     "execution_count": 3,
     "metadata": {},
     "output_type": "execute_result"
    }
   ],
   "source": [
    "session = create_session()\n",
    "\n",
    "# Create a keyspace\n",
    "session.execute(\"\"\"\n",
    "CREATE KEYSPACE IF NOT EXISTS cql_keyspace\n",
    "WITH replication = { 'class': 'SimpleStrategy', 'replication_factor': 1 } \n",
    "AND durable_writes = 'true';\n",
    "\"\"\")\n",
    "\n",
    "# Create our table\n",
    "session.execute(\"\"\"\n",
    "CREATE TABLE IF NOT EXISTS cql_keyspace.rentals (\n",
    "car_make text,\n",
    "car_model text,\n",
    "rental_start_time timestamp,\n",
    "rental_end_time timestamp,\n",
    "car_category text,\n",
    "car_year int,\n",
    "registration_number text,\n",
    "driver_license text,\n",
    "first_name text,\n",
    "last_name text,\n",
    "contact_number text,\n",
    "PRIMARY KEY ((car_make, car_model), rental_start_time, rental_end_time)\n",
    ") WITH default_time_to_live = 2592000;\n",
    "\"\"\")"
   ]
  },
  {
   "cell_type": "code",
   "execution_count": 4,
   "id": "21f9c414",
   "metadata": {},
   "outputs": [],
   "source": [
    "from data_generator import DataGenerator\n",
    "\n",
    "records = DataGenerator().generate_records(num_records=10000)"
   ]
  },
  {
   "cell_type": "code",
   "execution_count": 27,
   "id": "863333c1",
   "metadata": {},
   "outputs": [
    {
     "data": {
      "text/plain": [
       "''"
      ]
     },
     "execution_count": 27,
     "metadata": {},
     "output_type": "execute_result"
    }
   ],
   "source": [
    "\n",
    "statement = session.prepare(\"\"\"\n",
    "INSERT INTO cql_keyspace.rentals (car_make,\n",
    "car_model,\n",
    "rental_start_time,\n",
    "rental_end_time,\n",
    "car_category,\n",
    "car_year,\n",
    "registration_number,\n",
    "driver_license,\n",
    "first_name,\n",
    "last_name,\n",
    "contact_number) VALUES (?, ?, ?, ?, ?, ?, ?, ?, ?, ?, ?)\n",
    "\"\"\")\n",
    "\n",
    "records = DataGenerator().generate_records(num_records=10000)\n",
    "\n",
    "parameters = [x for x in records]\n",
    "\n",
    "execute_concurrent_with_args(session, statement, parameters, concurrency=50)\n",
    "\n",
    ";"
   ]
  },
  {
   "cell_type": "code",
   "execution_count": 26,
   "id": "a9c621ef",
   "metadata": {},
   "outputs": [
    {
     "name": "stdout",
     "output_type": "stream",
     "text": [
      "9684 .. where 316 cars where rented multiple times within the last 30 days.\n"
     ]
    },
    {
     "data": {
      "text/html": [
       "<div>\n",
       "<style scoped>\n",
       "    .dataframe tbody tr th:only-of-type {\n",
       "        vertical-align: middle;\n",
       "    }\n",
       "\n",
       "    .dataframe tbody tr th {\n",
       "        vertical-align: top;\n",
       "    }\n",
       "\n",
       "    .dataframe thead th {\n",
       "        text-align: right;\n",
       "    }\n",
       "</style>\n",
       "<table border=\"1\" class=\"dataframe\">\n",
       "  <thead>\n",
       "    <tr style=\"text-align: right;\">\n",
       "      <th></th>\n",
       "      <th>car_make</th>\n",
       "      <th>car_model</th>\n",
       "      <th>rental_start_time</th>\n",
       "      <th>rental_end_time</th>\n",
       "      <th>car_category</th>\n",
       "      <th>car_year</th>\n",
       "      <th>contact_number</th>\n",
       "      <th>driver_license</th>\n",
       "      <th>first_name</th>\n",
       "      <th>last_name</th>\n",
       "      <th>registration_number</th>\n",
       "    </tr>\n",
       "  </thead>\n",
       "  <tbody>\n",
       "    <tr>\n",
       "      <th>0</th>\n",
       "      <td>Mitsubishi</td>\n",
       "      <td>F-TYPE</td>\n",
       "      <td>2023-01-14 01:54:09.632</td>\n",
       "      <td>2023-01-22 23:54:09.632</td>\n",
       "      <td>SUV</td>\n",
       "      <td>1995</td>\n",
       "      <td>None</td>\n",
       "      <td>Catherine</td>\n",
       "      <td>Martinez</td>\n",
       "      <td>0431649449</td>\n",
       "      <td>0204PX5G</td>\n",
       "    </tr>\n",
       "    <tr>\n",
       "      <th>1</th>\n",
       "      <td>Cadillac</td>\n",
       "      <td>Sierra 2500 HD Crew Cab</td>\n",
       "      <td>2023-01-19 02:54:10.059</td>\n",
       "      <td>2023-01-21 06:54:10.059</td>\n",
       "      <td>Wagon</td>\n",
       "      <td>2010</td>\n",
       "      <td>None</td>\n",
       "      <td>Stephen</td>\n",
       "      <td>Underwood</td>\n",
       "      <td>0456604620</td>\n",
       "      <td>970BV6L6</td>\n",
       "    </tr>\n",
       "    <tr>\n",
       "      <th>2</th>\n",
       "      <td>Toyota</td>\n",
       "      <td>fortwo</td>\n",
       "      <td>2023-01-29 00:54:09.645</td>\n",
       "      <td>2023-01-31 23:54:09.645</td>\n",
       "      <td>Pickup</td>\n",
       "      <td>2004</td>\n",
       "      <td>None</td>\n",
       "      <td>Madison</td>\n",
       "      <td>Foley</td>\n",
       "      <td>0456164718</td>\n",
       "      <td>763IKB9P</td>\n",
       "    </tr>\n",
       "    <tr>\n",
       "      <th>3</th>\n",
       "      <td>MAZDA</td>\n",
       "      <td>Trans Sport</td>\n",
       "      <td>2023-01-06 03:54:09.513</td>\n",
       "      <td>2023-01-09 00:54:09.513</td>\n",
       "      <td>SUV</td>\n",
       "      <td>2004</td>\n",
       "      <td>None</td>\n",
       "      <td>Sandra</td>\n",
       "      <td>Hall</td>\n",
       "      <td>0496683770</td>\n",
       "      <td>954LNQIS</td>\n",
       "    </tr>\n",
       "    <tr>\n",
       "      <th>4</th>\n",
       "      <td>Audi</td>\n",
       "      <td>X1</td>\n",
       "      <td>2023-01-06 03:54:09.313</td>\n",
       "      <td>2023-02-03 05:54:09.313</td>\n",
       "      <td>Van/Minivan</td>\n",
       "      <td>2012</td>\n",
       "      <td>None</td>\n",
       "      <td>Charles</td>\n",
       "      <td>Garcia</td>\n",
       "      <td>0439046452</td>\n",
       "      <td>866FJWDD</td>\n",
       "    </tr>\n",
       "  </tbody>\n",
       "</table>\n",
       "</div>"
      ],
      "text/plain": [
       "     car_make                car_model       rental_start_time  \\\n",
       "0  Mitsubishi                   F-TYPE 2023-01-14 01:54:09.632   \n",
       "1    Cadillac  Sierra 2500 HD Crew Cab 2023-01-19 02:54:10.059   \n",
       "2      Toyota                   fortwo 2023-01-29 00:54:09.645   \n",
       "3       MAZDA              Trans Sport 2023-01-06 03:54:09.513   \n",
       "4        Audi                       X1 2023-01-06 03:54:09.313   \n",
       "\n",
       "          rental_end_time car_category  car_year contact_number  \\\n",
       "0 2023-01-22 23:54:09.632          SUV      1995           None   \n",
       "1 2023-01-21 06:54:10.059        Wagon      2010           None   \n",
       "2 2023-01-31 23:54:09.645       Pickup      2004           None   \n",
       "3 2023-01-09 00:54:09.513          SUV      2004           None   \n",
       "4 2023-02-03 05:54:09.313  Van/Minivan      2012           None   \n",
       "\n",
       "  driver_license first_name   last_name registration_number  \n",
       "0      Catherine   Martinez  0431649449            0204PX5G  \n",
       "1        Stephen  Underwood  0456604620            970BV6L6  \n",
       "2        Madison      Foley  0456164718            763IKB9P  \n",
       "3         Sandra       Hall  0496683770            954LNQIS  \n",
       "4        Charles     Garcia  0439046452            866FJWDD  "
      ]
     },
     "execution_count": 26,
     "metadata": {},
     "output_type": "execute_result"
    }
   ],
   "source": [
    "result = list(session.execute(\"SELECT * FROM cql_keyspace.rentals\"))\n",
    "print(len(result), f\".. where {10000-len(result)} cars where rented multiple times within the last 30 days.\")\n",
    "pd.DataFrame(result).head()"
   ]
  },
  {
   "cell_type": "markdown",
   "id": "1b0237e8",
   "metadata": {},
   "source": [
    "```QUERY: Find the contact details of each person that rented a Toyota Camry from yesterday after 8:00am```"
   ]
  },
  {
   "cell_type": "code",
   "execution_count": 21,
   "id": "116d18cd",
   "metadata": {},
   "outputs": [
    {
     "data": {
      "text/html": [
       "<div>\n",
       "<style scoped>\n",
       "    .dataframe tbody tr th:only-of-type {\n",
       "        vertical-align: middle;\n",
       "    }\n",
       "\n",
       "    .dataframe tbody tr th {\n",
       "        vertical-align: top;\n",
       "    }\n",
       "\n",
       "    .dataframe thead th {\n",
       "        text-align: right;\n",
       "    }\n",
       "</style>\n",
       "<table border=\"1\" class=\"dataframe\">\n",
       "  <thead>\n",
       "    <tr style=\"text-align: right;\">\n",
       "      <th></th>\n",
       "      <th>car_make</th>\n",
       "      <th>car_model</th>\n",
       "      <th>rental_start_time</th>\n",
       "      <th>rental_end_time</th>\n",
       "      <th>car_category</th>\n",
       "      <th>car_year</th>\n",
       "      <th>contact_number</th>\n",
       "      <th>driver_license</th>\n",
       "      <th>first_name</th>\n",
       "      <th>last_name</th>\n",
       "      <th>registration_number</th>\n",
       "    </tr>\n",
       "  </thead>\n",
       "  <tbody>\n",
       "    <tr>\n",
       "      <th>0</th>\n",
       "      <td>Toyota</td>\n",
       "      <td>Camry</td>\n",
       "      <td>2023-01-10 05:54:09.578</td>\n",
       "      <td>2023-01-21 01:54:09.578</td>\n",
       "      <td>SUV</td>\n",
       "      <td>2014</td>\n",
       "      <td>None</td>\n",
       "      <td>Benjamin</td>\n",
       "      <td>Copeland</td>\n",
       "      <td>0424349739</td>\n",
       "      <td>380Z16BN</td>\n",
       "    </tr>\n",
       "    <tr>\n",
       "      <th>1</th>\n",
       "      <td>Toyota</td>\n",
       "      <td>Camry</td>\n",
       "      <td>2023-01-19 01:54:09.219</td>\n",
       "      <td>2023-01-30 02:54:09.219</td>\n",
       "      <td>Coupe</td>\n",
       "      <td>1997</td>\n",
       "      <td>None</td>\n",
       "      <td>Debra</td>\n",
       "      <td>Baker</td>\n",
       "      <td>0428617865</td>\n",
       "      <td>351PZGS9</td>\n",
       "    </tr>\n",
       "  </tbody>\n",
       "</table>\n",
       "</div>"
      ],
      "text/plain": [
       "  car_make car_model       rental_start_time         rental_end_time  \\\n",
       "0   Toyota     Camry 2023-01-10 05:54:09.578 2023-01-21 01:54:09.578   \n",
       "1   Toyota     Camry 2023-01-19 01:54:09.219 2023-01-30 02:54:09.219   \n",
       "\n",
       "  car_category  car_year contact_number driver_license first_name   last_name  \\\n",
       "0          SUV      2014           None       Benjamin   Copeland  0424349739   \n",
       "1        Coupe      1997           None          Debra      Baker  0428617865   \n",
       "\n",
       "  registration_number  \n",
       "0            380Z16BN  \n",
       "1            351PZGS9  "
      ]
     },
     "execution_count": 21,
     "metadata": {},
     "output_type": "execute_result"
    }
   ],
   "source": [
    "result = session.execute(\"SELECT * FROM cql_keyspace.rentals WHERE car_make = 'Toyota' and car_model = 'Camry'\")\n",
    "pd.DataFrame(list(result)).head()"
   ]
  },
  {
   "cell_type": "code",
   "execution_count": null,
   "id": "a700835a",
   "metadata": {},
   "outputs": [],
   "source": []
  }
 ],
 "metadata": {
  "kernelspec": {
   "display_name": "Python 3 (ipykernel)",
   "language": "python",
   "name": "python3"
  },
  "language_info": {
   "codemirror_mode": {
    "name": "ipython",
    "version": 3
   },
   "file_extension": ".py",
   "mimetype": "text/x-python",
   "name": "python",
   "nbconvert_exporter": "python",
   "pygments_lexer": "ipython3",
   "version": "3.9.9"
  }
 },
 "nbformat": 4,
 "nbformat_minor": 5
}
